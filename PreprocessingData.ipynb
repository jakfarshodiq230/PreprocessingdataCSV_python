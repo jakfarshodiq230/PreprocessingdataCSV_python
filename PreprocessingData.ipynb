{
 "cells": [
  {
   "cell_type": "code",
   "execution_count": 1,
   "id": "285af6b8",
   "metadata": {},
   "outputs": [],
   "source": [
    "#load library\n",
    "import pandas as pd\n",
    "import numpy as np\n",
    "from nltk.corpus import stopwords\n",
    "import nltk as nltk\n",
    "from Sastrawi.Stemmer.StemmerFactory import StemmerFactory\n",
    "factory = StemmerFactory()\n",
    "stemmer = factory.create_stemmer()\n",
    "from sklearn.feature_extraction.text import TfidfVectorizer, CountVectorizer"
   ]
  },
  {
   "cell_type": "code",
   "execution_count": 2,
   "id": "286f98fd",
   "metadata": {},
   "outputs": [],
   "source": [
    "#membaca file csv\n",
    "# train Data\n",
    "trainData = pd.read_csv(open('DATA_TES2.csv', newline='', encoding='utf-8'), delimiter=';')"
   ]
  },
  {
   "cell_type": "code",
   "execution_count": 4,
   "id": "11e874f2",
   "metadata": {},
   "outputs": [
    {
     "name": "stdout",
     "output_type": "stream",
     "text": [
      "(537, 5)\n"
     ]
    },
    {
     "data": {
      "text/html": [
       "<div>\n",
       "<style scoped>\n",
       "    .dataframe tbody tr th:only-of-type {\n",
       "        vertical-align: middle;\n",
       "    }\n",
       "\n",
       "    .dataframe tbody tr th {\n",
       "        vertical-align: top;\n",
       "    }\n",
       "\n",
       "    .dataframe thead th {\n",
       "        text-align: right;\n",
       "    }\n",
       "</style>\n",
       "<table border=\"1\" class=\"dataframe\">\n",
       "  <thead>\n",
       "    <tr style=\"text-align: right;\">\n",
       "      <th></th>\n",
       "      <th>no</th>\n",
       "      <th>username</th>\n",
       "      <th>name</th>\n",
       "      <th>tweet</th>\n",
       "      <th>language</th>\n",
       "    </tr>\n",
       "  </thead>\n",
       "  <tbody>\n",
       "    <tr>\n",
       "      <th>0</th>\n",
       "      <td>1</td>\n",
       "      <td>suryakepricom</td>\n",
       "      <td>Suryakepri.com</td>\n",
       "      <td>https://t.co/jAHpJnlA7g #suryakepri #batam #n...</td>\n",
       "      <td>in</td>\n",
       "    </tr>\n",
       "    <tr>\n",
       "      <th>1</th>\n",
       "      <td>2</td>\n",
       "      <td>suryakepricom</td>\n",
       "      <td>Suryakepri.com</td>\n",
       "      <td>https://t.co/zdTQ69TIcg #suryakepri #batam #n...</td>\n",
       "      <td>in</td>\n",
       "    </tr>\n",
       "    <tr>\n",
       "      <th>2</th>\n",
       "      <td>3</td>\n",
       "      <td>suryakepricom</td>\n",
       "      <td>Suryakepri.com</td>\n",
       "      <td>https://t.co/S1VPH03EL0 #suryakepri #batam #n...</td>\n",
       "      <td>in</td>\n",
       "    </tr>\n",
       "    <tr>\n",
       "      <th>3</th>\n",
       "      <td>4</td>\n",
       "      <td>suryakepricom</td>\n",
       "      <td>Suryakepri.com</td>\n",
       "      <td>https://t.co/wIZLPVyQCU #suryakepri #batam #n...</td>\n",
       "      <td>in</td>\n",
       "    </tr>\n",
       "    <tr>\n",
       "      <th>4</th>\n",
       "      <td>5</td>\n",
       "      <td>suluhco</td>\n",
       "      <td>suluh.co</td>\n",
       "      <td>#Pilkada2020 #PilWaKo #KotaMetro #Lampung @Agu...</td>\n",
       "      <td>in</td>\n",
       "    </tr>\n",
       "    <tr>\n",
       "      <th>5</th>\n",
       "      <td>6</td>\n",
       "      <td>lampostco</td>\n",
       "      <td>Lampung Post (Official)</td>\n",
       "      <td>Pendaftaran dibuka selama tiga hari yakni 4-6 ...</td>\n",
       "      <td>in</td>\n",
       "    </tr>\n",
       "    <tr>\n",
       "      <th>6</th>\n",
       "      <td>7</td>\n",
       "      <td>madtu_madali</td>\n",
       "      <td>Ahmad Ali</td>\n",
       "      <td>Jika diberi kepercayaan dan dijaga, Makassar a...</td>\n",
       "      <td>in</td>\n",
       "    </tr>\n",
       "    <tr>\n",
       "      <th>7</th>\n",
       "      <td>8</td>\n",
       "      <td>detikcom</td>\n",
       "      <td>detikcom</td>\n",
       "      <td>\"Kami dianggap kuda hitam, underdog dan tidak ...</td>\n",
       "      <td>in</td>\n",
       "    </tr>\n",
       "    <tr>\n",
       "      <th>8</th>\n",
       "      <td>9</td>\n",
       "      <td>goposid</td>\n",
       "      <td>gopos.id</td>\n",
       "      <td>Gubernur Gorontalo, Drs. H. Rusli Habibie, M.A...</td>\n",
       "      <td>in</td>\n",
       "    </tr>\n",
       "    <tr>\n",
       "      <th>9</th>\n",
       "      <td>10</td>\n",
       "      <td>goposid</td>\n",
       "      <td>gopos.id</td>\n",
       "      <td>141 Personel Polres Pohuwato Bakal Amankan Pen...</td>\n",
       "      <td>in</td>\n",
       "    </tr>\n",
       "  </tbody>\n",
       "</table>\n",
       "</div>"
      ],
      "text/plain": [
       "   no       username                     name  \\\n",
       "0   1  suryakepricom           Suryakepri.com   \n",
       "1   2  suryakepricom           Suryakepri.com   \n",
       "2   3  suryakepricom           Suryakepri.com   \n",
       "3   4  suryakepricom           Suryakepri.com   \n",
       "4   5        suluhco                 suluh.co   \n",
       "5   6      lampostco  Lampung Post (Official)   \n",
       "6   7   madtu_madali                Ahmad Ali   \n",
       "7   8       detikcom                 detikcom   \n",
       "8   9        goposid                 gopos.id   \n",
       "9  10        goposid                 gopos.id   \n",
       "\n",
       "                                               tweet language  \n",
       "0   https://t.co/jAHpJnlA7g #suryakepri #batam #n...       in  \n",
       "1   https://t.co/zdTQ69TIcg #suryakepri #batam #n...       in  \n",
       "2   https://t.co/S1VPH03EL0 #suryakepri #batam #n...       in  \n",
       "3   https://t.co/wIZLPVyQCU #suryakepri #batam #n...       in  \n",
       "4  #Pilkada2020 #PilWaKo #KotaMetro #Lampung @Agu...       in  \n",
       "5  Pendaftaran dibuka selama tiga hari yakni 4-6 ...       in  \n",
       "6  Jika diberi kepercayaan dan dijaga, Makassar a...       in  \n",
       "7  \"Kami dianggap kuda hitam, underdog dan tidak ...       in  \n",
       "8  Gubernur Gorontalo, Drs. H. Rusli Habibie, M.A...       in  \n",
       "9  141 Personel Polres Pohuwato Bakal Amankan Pen...       in  "
      ]
     },
     "execution_count": 4,
     "metadata": {},
     "output_type": "execute_result"
    }
   ],
   "source": [
    "#menampilkan dari fle csv\n",
    "print (trainData.shape)\n",
    "trainData.head(10)"
   ]
  },
  {
   "cell_type": "code",
   "execution_count": 5,
   "id": "02956b2c",
   "metadata": {},
   "outputs": [],
   "source": [
    "#update data stopwords\n",
    "stopset = set(stopwords.words('indonesian'))\n",
    "stopset.update(['kirim','kabar','lindung','pilkadacovid'])"
   ]
  },
  {
   "cell_type": "code",
   "execution_count": 6,
   "id": "66dce074",
   "metadata": {},
   "outputs": [],
   "source": [
    "import re\n",
    "def clean_tweets(row):\n",
    "    review = row['tweet']\n",
    "    drop = ' '.join(re.sub(\"(@[A-Za-z0-9]+)|([^0-9A-Za-z \\t])|(\\w+:\\/\\/\\S+)\",\" \", review).split())\n",
    "    return drop\n",
    "trainData['clean_tweets'] = trainData.apply(clean_tweets, axis=1)"
   ]
  },
  {
   "cell_type": "code",
   "execution_count": 7,
   "id": "c31e49ff",
   "metadata": {},
   "outputs": [],
   "source": [
    "#proses tokenizng\n",
    "def identify_tokens(row):\n",
    "    review = row['clean_tweets']\n",
    "    tokens = nltk.word_tokenize(review)\n",
    "    # taken only words (not punctuation)\n",
    "    token_words = [w for w in tokens]\n",
    "    return token_words\n",
    "\n",
    "trainData['tokenizing_word'] = trainData.apply(identify_tokens, axis=1)"
   ]
  },
  {
   "cell_type": "code",
   "execution_count": null,
   "id": "15224edf",
   "metadata": {},
   "outputs": [],
   "source": [
    "#proses stemming\n",
    "def stem_list(row):\n",
    "    my_list = row['tokenizing_word']\n",
    "    stemmed_list = [stemmer.stem(word) for word in my_list]\n",
    "    return (stemmed_list)\n",
    "\n",
    "trainData['stemming_word'] = trainData.apply(stem_list, axis=1)"
   ]
  },
  {
   "cell_type": "code",
   "execution_count": null,
   "id": "f818dcd4",
   "metadata": {},
   "outputs": [],
   "source": [
    "#proses Alpha\n",
    "def is_alpha(row):\n",
    "    my_alpha = row['stemming_word']\n",
    "    is_alpha = [word for word in my_alpha if word.isalpha()]\n",
    "    return (is_alpha)\n",
    "\n",
    "trainData['panctuaton_word'] = trainData.apply(is_alpha, axis=1)"
   ]
  },
  {
   "cell_type": "code",
   "execution_count": null,
   "id": "c24745d0",
   "metadata": {},
   "outputs": [],
   "source": [
    "#proses stopwords\n",
    "def remove_stops(row):\n",
    "    my_list = row['panctuaton_word']\n",
    "    meaningful_words = [w for w in my_list if not w in stopset]\n",
    "    return (meaningful_words)\n",
    "\n",
    "trainData['stopword_word'] = trainData.apply(remove_stops, axis=1)"
   ]
  },
  {
   "cell_type": "code",
   "execution_count": null,
   "id": "ff6af5d3",
   "metadata": {},
   "outputs": [],
   "source": [
    "#joinkan content\n",
    "def rejoin_words(row):\n",
    "    my_list = row['stopword_word']\n",
    "    joined_words = ( \" \".join(my_list))\n",
    "    return joined_words\n",
    "\n",
    "trainData['processed'] = trainData.apply(rejoin_words, axis=1)"
   ]
  },
  {
   "cell_type": "code",
   "execution_count": null,
   "id": "52879f6c",
   "metadata": {},
   "outputs": [],
   "source": [
    "trainData"
   ]
  },
  {
   "cell_type": "code",
   "execution_count": null,
   "id": "25d11803",
   "metadata": {},
   "outputs": [],
   "source": []
  }
 ],
 "metadata": {
  "kernelspec": {
   "display_name": "Python 3 (ipykernel)",
   "language": "python",
   "name": "python3"
  },
  "language_info": {
   "codemirror_mode": {
    "name": "ipython",
    "version": 3
   },
   "file_extension": ".py",
   "mimetype": "text/x-python",
   "name": "python",
   "nbconvert_exporter": "python",
   "pygments_lexer": "ipython3",
   "version": "3.9.9"
  }
 },
 "nbformat": 4,
 "nbformat_minor": 5
}
